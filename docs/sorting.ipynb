{
 "cells": [
  {
   "cell_type": "markdown",
   "metadata": {},
   "source": [
    "# Algoritmos de Ordenamiento\n",
    "\n",
    "En esta sección, exploraremos dos algoritmos de ordenamiento fundamentales: **Bubble Sort** y **Merge Sort**. Estos algoritmos son esenciales para entender cómo se pueden organizar datos de manera eficiente.\n",
    "\n",
    "## Bubble Sort\n",
    "\n",
    "Bubble Sort es un algoritmo de ordenamiento simple que compara elementos adyacentes y los intercambia si están en el orden incorrecto. Este proceso se repite hasta que no se requieren más intercambios, lo que significa que la lista está ordenada.\n",
    "\n",
    "### Ejemplo de Bubble Sort\n",
    "\n",
    "Supongamos que tenemos la lista `[5, 3, 8, 4, 2]`. El algoritmo funcionaría de la siguiente manera:\n",
    "\n",
    "1. Comparar 5 y 3, intercambiar: `[3, 5, 8, 4, 2]`\n",
    "2. Comparar 5 y 8, no intercambiar: `[3, 5, 8, 4, 2]`\n",
    "3. Comparar 8 y 4, intercambiar: `[3, 5, 4, 8, 2]`\n",
    "4. Comparar 8 y 2, intercambiar: `[3, 5, 4, 2, 8]`\n",
    "5. Repetir el proceso hasta que la lista esté ordenada.\n",
    "\n",
    "### Complejidad\n",
    "\n",
    "La complejidad temporal del Bubble Sort es O(n²) en el peor y promedio de los casos, lo que lo hace ineficiente para listas grandes.\n",
    "\n",
    "## Merge Sort\n",
    "\n",
    "Merge Sort es un algoritmo de ordenamiento más eficiente que utiliza el enfoque de divide y vencerás. Divide la lista en mitades, ordena cada mitad y luego combina las mitades ordenadas.\n",
    "\n",
    "### Ejemplo de Merge Sort\n",
    "\n",
    "Para la lista `[38, 27, 43, 3, 9, 82, 10]`, el algoritmo funcionaría de la siguiente manera:\n",
    "\n",
    "1. Dividir la lista en mitades: `[38, 27, 43]` y `[3, 9, 82, 10]`\n",
    "2. Seguir dividiendo hasta que cada sublista tenga un solo elemento.\n",
    "3. Combinar las sublistas ordenadas.\n",
    "\n",
    "### Complejidad\n",
    "\n",
    "La complejidad temporal del Merge Sort es O(n log n) en todos los casos, lo que lo hace mucho más eficiente que el Bubble Sort para listas grandes.\n",
    "\n",
    "## Conclusión\n",
    "\n",
    "Comprender estos algoritmos es fundamental para el estudio de la informática y la programación. En esta práctica, implementarás ambos algoritmos en Python y aprenderás a utilizarlos en diferentes contextos."
   ]
  }
 ],
 "metadata": {
  "kernelspec": {
   "display_name": "Python 3",
   "language": "python",
   "name": "python3"
  },
  "language_info": {
   "codemirror_mode": {
    "name": "ipython",
    "version": 3
   },
   "file_extension": ".py",
   "mimetype": "text/x-python",
   "name": "python",
   "nbconvert_exporter": "python",
   "pygments_lexer": "ipython3",
   "version": "3.8.5"
  }
 },
 "nbformat": 4,
 "nbformat_minor": 4
}